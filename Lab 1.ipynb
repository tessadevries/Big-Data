{
 "cells": [
  {
   "cell_type": "code",
   "execution_count": 2,
   "metadata": {
    "collapsed": false
   },
   "outputs": [],
   "source": [
    "#File Reading\n",
    "#Emma Anderson, Big Data, 9/7/16\n",
    "#open and save the file for reading\n",
    "data_file = open(\"FreBridge1.csv\", \"r\");\n",
    "#create an empty list to store the data\n",
    "data_list = [];\n",
    "#put all lines from the file into a list\n",
    "for ii in data_file:\n",
    "    data_list.append(ii);\n",
    "\n",
    "#remove the first element (column header)\n",
    "del data_list[0];\n",
    "#create empty lists for westbound and eastbound bikes\n",
    "west = [];\n",
    "east = [];    \n",
    "for jj in range(len(data_list)):\n",
    "    #make into a list of lists of just numbers\n",
    "    data_list[jj] = data_list[jj].split(\",\");\n",
    "    #add data to specific lists for west and east\n",
    "    west.append(int(data_list[jj][1]));\n",
    "    east.append(int(data_list[jj][2]));\n",
    "\n"
   ]
  },
  {
   "cell_type": "code",
   "execution_count": 3,
   "metadata": {
    "collapsed": true
   },
   "outputs": [],
   "source": [
    "import statistics \n",
    "import math\n"
   ]
  },
  {
   "cell_type": "code",
   "execution_count": 4,
   "metadata": {
    "collapsed": false
   },
   "outputs": [
    {
     "name": "stdout",
     "output_type": "stream",
     "text": [
      "The mean of west is 1497.5666666666666\n",
      "The median of west is 1573.5\n",
      "The mean of east is 1540.4333333333334\n",
      "The median of east is 1648.0\n"
     ]
    }
   ],
   "source": [
    "print(\"The mean of west is\", statistics.mean(west))\n",
    "print(\"The median of west is\", statistics.median(west))\n",
    "\n",
    "print(\"The mean of east is\", statistics.mean(east))\n",
    "print(\"The median of east is\", statistics.median(east))\n",
    "\n"
   ]
  },
  {
   "cell_type": "markdown",
   "metadata": {},
   "source": [
    "\n",
    "These numbers represent the number of bikers and pedestrians who go through the west and east entrance of the Fremont Bridge on a dialy basis. For both sets the mean and median are fairly close (respectively) which indicates that neither are significantly more accurate or telling of more information. Not only does a mode not exist for both the east and west entrance, but even if there was, it wouldn't be very useful with this data. There are about 30 data points for each set (west and east) with a range of ~500 to ~2500. We could calculate the maximum and minimun number of people who used the bridge in a single day to see how close those numbers are to the data mean and median in order to determine whether the median or mean is more accurate. Suppose the maxium or minimun was extreme and skewing the data, then the median would most likely be more telling than the mean. On average, Wednesday is the most popular day for pedestrians and bikers to pass through the west and east entrance. This was calculated with the given data, an average was drawn for each day of the week and from there the maximum average was Wednesday. Bikers follow the flow of traffic however pedestrians can walk on either side of the bridge in either direction. The data for east and west are not significantly different on a day to day basis so we can look at them as a whole. \n",
    "\n"
   ]
  },
  {
   "cell_type": "code",
   "execution_count": 5,
   "metadata": {
    "collapsed": false
   },
   "outputs": [
    {
     "name": "stdout",
     "output_type": "stream",
     "text": [
      "DATA FOR WEST ENTRANCE\n",
      "The mean for Tuesday is 1777.75\n",
      "The mean for Wednesday is 1966.75\n",
      "The mean for Thursday is 1684.75\n",
      "The mean for Friday is 1515.75\n",
      "The mean for Saturday is 971\n",
      "The mean for Sunday is 680.25\n",
      "The mean for Monday is 1613.25\n"
     ]
    }
   ],
   "source": [
    "tues= []\n",
    "weds=[]\n",
    "thurs=[]\n",
    "fri=[]\n",
    "sat=[]\n",
    "sun=[]\n",
    "mon=[]\n",
    "\n",
    "for i in range(0, 28, 7): \n",
    "    tues.append (west[i])\n",
    "    weds.append (west[i+1])\n",
    "    thurs.append (west[i+2])\n",
    "    fri.append (west[i+3])\n",
    "    sat.append (west[i+4])\n",
    "    sun.append (west[i+5])\n",
    "    mon.append (west[i+6])\n",
    "\n",
    "print(\"DATA FOR WEST ENTRANCE\")\n",
    "print (\"The mean for Tuesday is\", statistics.mean (tues))\n",
    "print (\"The mean for Wednesday is\", statistics.mean (weds))\n",
    "print (\"The mean for Thursday is\", statistics.mean (thurs))\n",
    "print (\"The mean for Friday is\", statistics.mean (fri))\n",
    "print (\"The mean for Saturday is\", statistics.mean (sat))\n",
    "print (\"The mean for Sunday is\", statistics.mean (sun))\n",
    "print (\"The mean for Monday is\", statistics.mean (mon))\n",
    "\n",
    "\n"
   ]
  },
  {
   "cell_type": "markdown",
   "metadata": {},
   "source": [
    "The day of the week in which the highest amount of crossing occured on the West entrance was Wednesday. "
   ]
  },
  {
   "cell_type": "code",
   "execution_count": 6,
   "metadata": {
    "collapsed": false,
    "scrolled": true
   },
   "outputs": [
    {
     "name": "stdout",
     "output_type": "stream",
     "text": [
      "DATA FOR EAST ENTRANCE\n",
      "The mean for Tuesday is 1909.5\n",
      "The mean for Wednesday is 2087.75\n",
      "The mean for Thursday is 1806\n",
      "The mean for Friday is 1579.75\n",
      "The mean for Saturday is 876.25\n",
      "The mean for Sunday is 592.75\n",
      "The mean for Monday is 1625.75\n"
     ]
    }
   ],
   "source": [
    "tues= []\n",
    "weds=[]\n",
    "thurs=[]\n",
    "fri=[]\n",
    "sat=[]\n",
    "sun=[]\n",
    "mon=[]\n",
    "\n",
    "for i in range(0, 28, 7): \n",
    "    tues.append (east[i])\n",
    "    weds.append (east[i+1])\n",
    "    thurs.append (east[i+2])\n",
    "    fri.append (east[i+3])\n",
    "    sat.append (east[i+4])\n",
    "    sun.append (east[i+5])\n",
    "    mon.append (east[i+6])\n",
    "\n",
    "print(\"DATA FOR EAST ENTRANCE\")\n",
    "print (\"The mean for Tuesday is\", statistics.mean (tues))\n",
    "print (\"The mean for Wednesday is\", statistics.mean (weds))\n",
    "print (\"The mean for Thursday is\", statistics.mean (thurs))\n",
    "print (\"The mean for Friday is\", statistics.mean (fri))\n",
    "print (\"The mean for Saturday is\", statistics.mean (sat))\n",
    "print (\"The mean for Sunday is\", statistics.mean (sun))\n",
    "print (\"The mean for Monday is\", statistics.mean (mon))"
   ]
  },
  {
   "cell_type": "markdown",
   "metadata": {},
   "source": [
    "The day of the week in which the highest amount of crossing occured on the East entrance was Wednesday. We left out a Tuesday and a Wednesday. "
   ]
  },
  {
   "cell_type": "code",
   "execution_count": 7,
   "metadata": {
    "collapsed": false
   },
   "outputs": [
    {
     "name": "stdout",
     "output_type": "stream",
     "text": [
      "WEST entrance: \n",
      "The mean of west is 1485.333799860042\n",
      "The median of west is 1336\n",
      "The mode of west is 1180\n",
      "EAST entrance:\n",
      "The mean of east is 1299.0881735479356\n",
      "The median of east is 1183\n",
      "There is no mode for east\n",
      "Means for Fridays:\n",
      "East= 1156.25\n",
      "West= 1146\n"
     ]
    }
   ],
   "source": [
    "data_file = open(\"FreBridge2.csv\", \"r\");\n",
    "data_list2 = [];\n",
    "#put all lines from the file into a list\n",
    "for tt in data_file:\n",
    "    data_list2.append(tt);\n",
    "\n",
    "#remove the first element (column header)\n",
    "del data_list2[0];\n",
    "#create empty lists for westbound and eastbound bikes\n",
    "west = [];\n",
    "east = [];    \n",
    "for tt in range(len(data_list2)):\n",
    "    #make into a list of lists of just numbers\n",
    "    data_list2[tt] = data_list2[tt].split(\",\");\n",
    "    #add data to specific lists for west and east\n",
    "    west.append(int(data_list2[tt][1]));\n",
    "    east.append(int(data_list2[tt][2]));\n",
    "\n",
    "    \n",
    "print(\"WEST entrance: \")\n",
    "print(\"The mean of west is\", statistics.mean(west))\n",
    "print(\"The median of west is\", statistics.median(west))\n",
    "print(\"The mode of west is\", statistics.mode(west))\n",
    "print(\"EAST entrance:\")\n",
    "print(\"The mean of east is\", statistics.mean(east))\n",
    "print(\"The median of east is\", statistics.median(east))\n",
    "print(\"There is no mode for east\")\n",
    "print(\"Means for Fridays:\")\n",
    "\n",
    "fri=[]\n",
    "for i in range(0, 28, 7): \n",
    "    fri.append (east[i+2])\n",
    "print (\"East=\", statistics.mean (fri))\n",
    "\n",
    "\n",
    "fri=[]\n",
    "for i in range(0, 28, 7): \n",
    "    fri.append (west[i+2])\n",
    "print (\"West=\", statistics.mean (fri))\n",
    "\n",
    "\n",
    "\n",
    "\n",
    "\n",
    "\n",
    "\n"
   ]
  },
  {
   "cell_type": "code",
   "execution_count": 8,
   "metadata": {
    "collapsed": false
   },
   "outputs": [
    {
     "name": "stdout",
     "output_type": "stream",
     "text": [
      "[1590, 989, 1012, 1034]\n",
      "[1590, 989, 1012, 1034, 1070, 1975, 1870, 1739, 1581, 1513, 1529, 1391, 1266]\n",
      "[1590, 989, 1012, 1034, 1070, 1975, 1870, 1739, 1581, 1513, 1529, 1391, 1266, 1642, 2065, 1917, 1841, 1175, 1491, 1215, 973, 1570]\n",
      "[1590, 989, 1012, 1034, 1070, 1975, 1870, 1739, 1581, 1513, 1529, 1391, 1266, 1642, 2065, 1917, 1841, 1175, 1491, 1215, 973, 1570, 1512, 1898, 1539, 1370, 1540, 1616, 1709, 1590]\n",
      "1507.4\n"
     ]
    }
   ],
   "source": [
    "#finding the fridays in falls\n",
    "fridayeast=[]\n",
    "for o in range(2, 29, 7): \n",
    "    fridayeast.append (east[o])  \n",
    "print(fridayeast)  \n",
    "for o in range(337, 394, 7): \n",
    "    fridayeast.append (east[o])  \n",
    "print(fridayeast)  \n",
    "for o in range(695,758 , 7): \n",
    "    fridayeast.append (east[o])  \n",
    "print(fridayeast)  \n",
    "for o in range(1066,1122 , 7): \n",
    "    fridayeast.append (east[o])  \n",
    "print(fridayeast)  \n",
    "print(statistics.mean(fridayeast))\n"
   ]
  },
  {
   "cell_type": "markdown",
   "metadata": {
    "collapsed": true
   },
   "source": [
    "The mean for Fridays (September-October) for the East entrance is: 1507.4"
   ]
  },
  {
   "cell_type": "code",
   "execution_count": 9,
   "metadata": {
    "collapsed": false
   },
   "outputs": [
    {
     "name": "stdout",
     "output_type": "stream",
     "text": [
      "[1558, 1022, 965, 1039]\n",
      "[1558, 1022, 965, 1039, 1178, 2070, 2248, 1874, 1670, 1659, 1722, 1624, 1307]\n",
      "[1558, 1022, 965, 1039, 1178, 2070, 2248, 1874, 1670, 1659, 1722, 1624, 1307, 1546, 2122, 1986, 1893, 1336, 2218, 1742, 1236, 1208]\n",
      "[1558, 1022, 965, 1039, 1178, 2070, 2248, 1874, 1670, 1659, 1722, 1624, 1307, 1546, 2122, 1986, 1893, 1336, 2218, 1742, 1236, 1208, 1425, 1863, 1461, 1314, 1477, 1503, 1756, 1497]\n",
      "1583.9666666666667\n"
     ]
    }
   ],
   "source": [
    "#finding the fridays in falls\n",
    "fridaywest=[]\n",
    "for o in range(2, 29, 7): \n",
    "    fridaywest.append (west[o])  \n",
    "print(fridaywest)  \n",
    "for o in range(337, 394, 7): \n",
    "    fridaywest.append (west[o])  \n",
    "print(fridaywest)  \n",
    "for o in range(695,758 , 7): \n",
    "    fridaywest.append (west[o])  \n",
    "print(fridaywest)  \n",
    "for o in range(1066,1122 , 7): \n",
    "    fridaywest.append (west[o])  \n",
    "print(fridaywest)  \n",
    "print(statistics.mean(fridaywest))\n",
    "\n"
   ]
  },
  {
   "cell_type": "markdown",
   "metadata": {},
   "source": [
    "The mean for Fridays (September-October) for the West entrance is: 1583.966"
   ]
  },
  {
   "cell_type": "code",
   "execution_count": 11,
   "metadata": {
    "collapsed": false
   },
   "outputs": [
    {
     "name": "stdout",
     "output_type": "stream",
     "text": [
      "The mean for Fridays in the fall is: \n",
      "3091.366666666667\n",
      "Standard Deviation for Fridays in the Fall\n",
      "627.3945293053637\n",
      "Two standard deviation range:\n",
      "2862.2745758960777\n",
      "3320.458757437256\n",
      "One standard deviation range:\n",
      "2976.820621281372\n",
      "3205.9127120519615\n"
     ]
    }
   ],
   "source": [
    "\n",
    "friday=[]\n",
    "for m in range (len(fridayeast)): \n",
    "    friday.append(fridayeast[m] +fridaywest[m])\n",
    "\n",
    "print(\"The mean for Fridays in the fall is: \")\n",
    "print(statistics.mean(friday))\n",
    "mean= statistics.mean(friday)\n",
    "   \n",
    "stdev = statistics.stdev(friday)\n",
    "print(\"Standard Deviation for Fridays in the Fall\")\n",
    "print(statistics.stdev(friday))\n",
    "\n",
    "n= len(friday)\n",
    "print(\"Two standard deviation range:\")\n",
    "print( mean - (2)*(stdev/math.sqrt(n)))\n",
    "print( mean + (2)*(stdev/math.sqrt(n)))\n",
    "\n",
    "\n",
    "n= len(friday)\n",
    "print(\"One standard deviation range:\")\n",
    "print( mean - (1)*(stdev/math.sqrt(n)))\n",
    "print( mean + (1)*(stdev/math.sqrt(n)))\n",
    "\n"
   ]
  },
  {
   "cell_type": "markdown",
   "metadata": {},
   "source": [
    "I am 95% confident that the number of people who cross the Fremont Bridge on Friday, September 30th will be somewhere between 2862 and 3320 people. \n",
    "\n",
    "I am 67.5% confident that the number of people who cross the Fremont Bridge on Friday, September 30th will be somewhere between 2977 and 3206 people.\n",
    "\n",
    "The basis for these claims is that the mean of Friday falls is 3091 and the ranges are one and two standard deviations out respectively. "
   ]
  },
  {
   "cell_type": "code",
   "execution_count": null,
   "metadata": {
    "collapsed": true
   },
   "outputs": [],
   "source": []
  }
 ],
 "metadata": {
  "anaconda-cloud": {},
  "kernelspec": {
   "display_name": "Python [Root]",
   "language": "python",
   "name": "Python [Root]"
  },
  "language_info": {
   "codemirror_mode": {
    "name": "ipython",
    "version": 3
   },
   "file_extension": ".py",
   "mimetype": "text/x-python",
   "name": "python",
   "nbconvert_exporter": "python",
   "pygments_lexer": "ipython3",
   "version": "3.5.2"
  }
 },
 "nbformat": 4,
 "nbformat_minor": 0
}
